{
 "cells": [
  {
   "cell_type": "code",
   "execution_count": 169,
   "id": "9843f3f5",
   "metadata": {
    "editable": true,
    "slideshow": {
     "slide_type": ""
    },
    "tags": []
   },
   "outputs": [],
   "source": [
    "import keras\n",
    "import tensorflow as tf\n",
    "import pandas as pd\n",
    "import numpy as np\n",
    "import matplotlib.pyplot as plt\n",
    "import seaborn as sns\n",
    "from sklearn.feature_extraction.text import CountVectorizer\n",
    "from tensorflow.keras.layers import TextVectorization,Embedding,Dense,LSTM,Flatten,Dropout\n",
    "from sklearn.model_selection import train_test_split\n",
    "from tensorflow.keras.models import Sequential\n",
    "from tensorflow.keras.callbacks import TensorBoard,EarlyStopping\n",
    "import gc"
   ]
  },
  {
   "cell_type": "code",
   "execution_count": 2,
   "id": "6ab9fb9c-e48f-423d-ad34-6a862037ab5d",
   "metadata": {},
   "outputs": [],
   "source": [
    "train_essays = pd.read_csv('./llm-detect-ai-generated-text/train_essays.csv')\n",
    "train_prompts = pd.read_csv('./llm-detect-ai-generated-text/train_prompts.csv') \n",
    "test_essays = pd.read_csv('./llm-detect-ai-generated-text/test_essays.csv')"
   ]
  },
  {
   "cell_type": "code",
   "execution_count": 3,
   "id": "de88efdc",
   "metadata": {},
   "outputs": [
    {
     "data": {
      "text/html": [
       "<div>\n",
       "<style scoped>\n",
       "    .dataframe tbody tr th:only-of-type {\n",
       "        vertical-align: middle;\n",
       "    }\n",
       "\n",
       "    .dataframe tbody tr th {\n",
       "        vertical-align: top;\n",
       "    }\n",
       "\n",
       "    .dataframe thead th {\n",
       "        text-align: right;\n",
       "    }\n",
       "</style>\n",
       "<table border=\"1\" class=\"dataframe\">\n",
       "  <thead>\n",
       "    <tr style=\"text-align: right;\">\n",
       "      <th></th>\n",
       "      <th>id</th>\n",
       "      <th>prompt_id</th>\n",
       "      <th>text</th>\n",
       "      <th>generated</th>\n",
       "    </tr>\n",
       "  </thead>\n",
       "  <tbody>\n",
       "    <tr>\n",
       "      <th>0</th>\n",
       "      <td>0059830c</td>\n",
       "      <td>0</td>\n",
       "      <td>Cars. Cars have been around since they became ...</td>\n",
       "      <td>0</td>\n",
       "    </tr>\n",
       "    <tr>\n",
       "      <th>1</th>\n",
       "      <td>005db917</td>\n",
       "      <td>0</td>\n",
       "      <td>Transportation is a large necessity in most co...</td>\n",
       "      <td>0</td>\n",
       "    </tr>\n",
       "    <tr>\n",
       "      <th>2</th>\n",
       "      <td>008f63e3</td>\n",
       "      <td>0</td>\n",
       "      <td>\"America's love affair with it's vehicles seem...</td>\n",
       "      <td>0</td>\n",
       "    </tr>\n",
       "    <tr>\n",
       "      <th>3</th>\n",
       "      <td>00940276</td>\n",
       "      <td>0</td>\n",
       "      <td>How often do you ride in a car? Do you drive a...</td>\n",
       "      <td>0</td>\n",
       "    </tr>\n",
       "    <tr>\n",
       "      <th>4</th>\n",
       "      <td>00c39458</td>\n",
       "      <td>0</td>\n",
       "      <td>Cars are a wonderful thing. They are perhaps o...</td>\n",
       "      <td>0</td>\n",
       "    </tr>\n",
       "    <tr>\n",
       "      <th>...</th>\n",
       "      <td>...</td>\n",
       "      <td>...</td>\n",
       "      <td>...</td>\n",
       "      <td>...</td>\n",
       "    </tr>\n",
       "    <tr>\n",
       "      <th>1373</th>\n",
       "      <td>fe6ff9a5</td>\n",
       "      <td>1</td>\n",
       "      <td>There has been a fuss about the Elector Colleg...</td>\n",
       "      <td>0</td>\n",
       "    </tr>\n",
       "    <tr>\n",
       "      <th>1374</th>\n",
       "      <td>ff669174</td>\n",
       "      <td>0</td>\n",
       "      <td>Limiting car usage has many advantages. Such a...</td>\n",
       "      <td>0</td>\n",
       "    </tr>\n",
       "    <tr>\n",
       "      <th>1375</th>\n",
       "      <td>ffa247e0</td>\n",
       "      <td>0</td>\n",
       "      <td>There's a new trend that has been developing f...</td>\n",
       "      <td>0</td>\n",
       "    </tr>\n",
       "    <tr>\n",
       "      <th>1376</th>\n",
       "      <td>ffc237e9</td>\n",
       "      <td>0</td>\n",
       "      <td>As we all know cars are a big part of our soci...</td>\n",
       "      <td>0</td>\n",
       "    </tr>\n",
       "    <tr>\n",
       "      <th>1377</th>\n",
       "      <td>ffe1ca0d</td>\n",
       "      <td>0</td>\n",
       "      <td>Cars have been around since the 1800's and hav...</td>\n",
       "      <td>0</td>\n",
       "    </tr>\n",
       "  </tbody>\n",
       "</table>\n",
       "<p>1378 rows × 4 columns</p>\n",
       "</div>"
      ],
      "text/plain": [
       "            id  prompt_id                                               text  \\\n",
       "0     0059830c          0  Cars. Cars have been around since they became ...   \n",
       "1     005db917          0  Transportation is a large necessity in most co...   \n",
       "2     008f63e3          0  \"America's love affair with it's vehicles seem...   \n",
       "3     00940276          0  How often do you ride in a car? Do you drive a...   \n",
       "4     00c39458          0  Cars are a wonderful thing. They are perhaps o...   \n",
       "...        ...        ...                                                ...   \n",
       "1373  fe6ff9a5          1  There has been a fuss about the Elector Colleg...   \n",
       "1374  ff669174          0  Limiting car usage has many advantages. Such a...   \n",
       "1375  ffa247e0          0  There's a new trend that has been developing f...   \n",
       "1376  ffc237e9          0  As we all know cars are a big part of our soci...   \n",
       "1377  ffe1ca0d          0  Cars have been around since the 1800's and hav...   \n",
       "\n",
       "      generated  \n",
       "0             0  \n",
       "1             0  \n",
       "2             0  \n",
       "3             0  \n",
       "4             0  \n",
       "...         ...  \n",
       "1373          0  \n",
       "1374          0  \n",
       "1375          0  \n",
       "1376          0  \n",
       "1377          0  \n",
       "\n",
       "[1378 rows x 4 columns]"
      ]
     },
     "execution_count": 3,
     "metadata": {},
     "output_type": "execute_result"
    }
   ],
   "source": [
    "train_essays"
   ]
  },
  {
   "cell_type": "code",
   "execution_count": 4,
   "id": "920fcbeb-7b93-4f60-8b42-f4e3a16b0ef1",
   "metadata": {
    "editable": true,
    "slideshow": {
     "slide_type": ""
    },
    "tags": []
   },
   "outputs": [],
   "source": [
    "train_essays.drop(['id','prompt_id'],axis=1,inplace=True)"
   ]
  },
  {
   "cell_type": "code",
   "execution_count": null,
   "id": "59224215-8f2d-47c9-8498-7351087aa072",
   "metadata": {
    "editable": true,
    "slideshow": {
     "slide_type": ""
    },
    "tags": []
   },
   "outputs": [],
   "source": []
  },
  {
   "cell_type": "code",
   "execution_count": 5,
   "id": "4d4572e2-c9f6-4f0b-937a-4191c7d1d000",
   "metadata": {},
   "outputs": [],
   "source": [
    "labels = train_essays['generated']"
   ]
  },
  {
   "cell_type": "code",
   "execution_count": 6,
   "id": "23bbe221-6d4b-4271-990e-bdcfd34e0530",
   "metadata": {},
   "outputs": [],
   "source": [
    "train = train_essays.drop(['generated'],axis=1)"
   ]
  },
  {
   "cell_type": "code",
   "execution_count": 8,
   "id": "e3288176-5b83-4c1e-a074-0b7e8a9c98aa",
   "metadata": {},
   "outputs": [],
   "source": [
    "vocab = 16355"
   ]
  },
  {
   "cell_type": "code",
   "execution_count": 9,
   "id": "06f93cc3-8d5c-4104-baae-50ed02866958",
   "metadata": {},
   "outputs": [
    {
     "name": "stderr",
     "output_type": "stream",
     "text": [
      "2023-11-19 12:10:53.742776: I metal_plugin/src/device/metal_device.cc:1154] Metal device set to: Apple M2\n",
      "2023-11-19 12:10:53.742806: I metal_plugin/src/device/metal_device.cc:296] systemMemory: 8.00 GB\n",
      "2023-11-19 12:10:53.742815: I metal_plugin/src/device/metal_device.cc:313] maxCacheSize: 2.67 GB\n",
      "2023-11-19 12:10:53.743323: I tensorflow/core/common_runtime/pluggable_device/pluggable_device_factory.cc:303] Could not identify NUMA node of platform GPU ID 0, defaulting to 0. Your kernel may not have been built with NUMA support.\n",
      "2023-11-19 12:10:53.743810: I tensorflow/core/common_runtime/pluggable_device/pluggable_device_factory.cc:269] Created TensorFlow device (/job:localhost/replica:0/task:0/device:GPU:0 with 0 MB memory) -> physical PluggableDevice (device: 0, name: METAL, pci bus id: <undefined>)\n"
     ]
    }
   ],
   "source": [
    "vec_layer = TextVectorization(max_tokens=vocab,output_mode='int',output_sequence_length=250)\n",
    "full_text_array = train.to_numpy()"
   ]
  },
  {
   "cell_type": "code",
   "execution_count": 10,
   "id": "de8fa2d6-367e-4728-ad2a-259e76d9c86e",
   "metadata": {},
   "outputs": [
    {
     "name": "stderr",
     "output_type": "stream",
     "text": [
      "2023-11-19 12:10:55.012935: I tensorflow/core/grappler/optimizers/custom_graph_optimizer_registry.cc:114] Plugin optimizer for device_type GPU is enabled.\n"
     ]
    }
   ],
   "source": [
    "vec_layer.adapt(x_train)\n",
    "def vectorize_text(train):\n",
    "  # train = tf.expand_dims(train, -1)\n",
    "  return vec_layer(train)\n",
    "train = vectorize_text(train)"
   ]
  },
  {
   "cell_type": "code",
   "execution_count": 19,
   "id": "7040735b-bfa4-4f00-9ef0-618bd6026d1a",
   "metadata": {},
   "outputs": [],
   "source": [
    "x_train,x_test,y_train,y_test = train_test_split(train,labels.to_numpy())"
   ]
  },
  {
   "cell_type": "code",
   "execution_count": 34,
   "id": "426004dd-0d9b-4fd7-b352-30d8071ab0be",
   "metadata": {},
   "outputs": [],
   "source": [
    "y_train = y_train.reshape((-1,1))\n",
    "y_test = y_test.reshape((-1,1))"
   ]
  },
  {
   "cell_type": "code",
   "execution_count": 172,
   "id": "7b36582c-0fdb-47b3-bb5d-1e43ccaee8dd",
   "metadata": {},
   "outputs": [],
   "source": [
    "callbacks = [TensorBoard(log_dir='./logs',histogram_freq=1,update_freq=1),EarlyStopping(monitor='acc',patience=0)]"
   ]
  },
  {
   "cell_type": "code",
   "execution_count": 35,
   "id": "d3de8002-1b29-466b-a12f-0113961c1b15",
   "metadata": {},
   "outputs": [
    {
     "name": "stdout",
     "output_type": "stream",
     "text": [
      "Epoch 1/20\n"
     ]
    },
    {
     "name": "stderr",
     "output_type": "stream",
     "text": [
      "2023-11-19 12:30:37.729886: I tensorflow/core/grappler/optimizers/custom_graph_optimizer_registry.cc:114] Plugin optimizer for device_type GPU is enabled.\n"
     ]
    },
    {
     "name": "stdout",
     "output_type": "stream",
     "text": [
      "33/33 [==============================] - 3s 33ms/step - loss: 0.6285 - acc: 0.9176\n",
      "Epoch 2/20\n",
      "33/33 [==============================] - 1s 22ms/step - loss: 0.4772 - acc: 0.9974\n",
      "Epoch 3/20\n",
      "33/33 [==============================] - 1s 23ms/step - loss: 0.3253 - acc: 0.9981\n",
      "Epoch 4/20\n",
      "33/33 [==============================] - 1s 21ms/step - loss: 0.2090 - acc: 0.9982\n",
      "Epoch 5/20\n",
      "33/33 [==============================] - 1s 21ms/step - loss: 0.1367 - acc: 0.9982\n",
      "Epoch 6/20\n",
      "33/33 [==============================] - 1s 20ms/step - loss: 0.0948 - acc: 0.9982\n",
      "Epoch 7/20\n",
      "33/33 [==============================] - 1s 19ms/step - loss: 0.0701 - acc: 0.9982\n",
      "Epoch 8/20\n",
      "33/33 [==============================] - 1s 17ms/step - loss: 0.0546 - acc: 0.9982\n",
      "Epoch 9/20\n",
      "33/33 [==============================] - 1s 19ms/step - loss: 0.0445 - acc: 0.9982\n",
      "Epoch 10/20\n",
      "33/33 [==============================] - 1s 19ms/step - loss: 0.0374 - acc: 0.9982\n",
      "Epoch 11/20\n",
      "33/33 [==============================] - 1s 18ms/step - loss: 0.0324 - acc: 0.9982\n",
      "Epoch 12/20\n",
      "33/33 [==============================] - 1s 24ms/step - loss: 0.0287 - acc: 0.9982\n",
      "Epoch 13/20\n",
      "33/33 [==============================] - 1s 19ms/step - loss: 0.0258 - acc: 0.9982\n",
      "Epoch 14/20\n",
      "33/33 [==============================] - 1s 19ms/step - loss: 0.0236 - acc: 0.9982\n",
      "Epoch 15/20\n",
      "33/33 [==============================] - 1s 17ms/step - loss: 0.0219 - acc: 0.9982\n",
      "Epoch 16/20\n",
      "33/33 [==============================] - 1s 18ms/step - loss: 0.0205 - acc: 0.9982\n",
      "Epoch 17/20\n",
      "33/33 [==============================] - 1s 17ms/step - loss: 0.0193 - acc: 0.9982\n",
      "Epoch 18/20\n",
      "33/33 [==============================] - 1s 18ms/step - loss: 0.0184 - acc: 0.9982\n",
      "Epoch 19/20\n",
      "33/33 [==============================] - 1s 17ms/step - loss: 0.0176 - acc: 0.9982\n",
      "Epoch 20/20\n",
      "33/33 [==============================] - 1s 16ms/step - loss: 0.0170 - acc: 0.9982\n"
     ]
    }
   ],
   "source": [
    "model = Sequential()\n",
    "# model.add(tf.keras.Input(shape=(1,), dtype=tf.string))\n",
    "model.add(Embedding(16356,50))\n",
    "# model.add(LSTM(128))\n",
    "# model.add(LSTM(22))\n",
    "# model.add(Flatten())\n",
    "model.add(Dense(1,activation='sigmoid'))\n",
    "\n",
    "\n",
    "model.compile(optimizer='adam',loss='binary_crossentropy',metrics=['acc'])\n",
    "\n",
    "history = model.fit(x_train,y_train,epochs=20,callbacks=callbacks)"
   ]
  },
  {
   "cell_type": "code",
   "execution_count": 38,
   "id": "c139b974-ae8f-4a34-8db0-387a5524a7f8",
   "metadata": {},
   "outputs": [
    {
     "name": "stdout",
     "output_type": "stream",
     "text": [
      " 6/11 [===============>..............] - ETA: 0s - loss: 0.0161 - acc: 0.9994"
     ]
    },
    {
     "name": "stderr",
     "output_type": "stream",
     "text": [
      "2023-11-19 12:36:49.774433: I tensorflow/core/grappler/optimizers/custom_graph_optimizer_registry.cc:114] Plugin optimizer for device_type GPU is enabled.\n"
     ]
    },
    {
     "name": "stdout",
     "output_type": "stream",
     "text": [
      "11/11 [==============================] - 0s 12ms/step - loss: 0.0301 - acc: 0.9965\n"
     ]
    },
    {
     "data": {
      "text/plain": [
       "[0.030111832544207573, 0.9965217709541321]"
      ]
     },
     "execution_count": 38,
     "metadata": {},
     "output_type": "execute_result"
    }
   ],
   "source": [
    "model.evaluate(x_test,y_test)"
   ]
  },
  {
   "cell_type": "code",
   "execution_count": 81,
   "id": "e32e68aa-b7e1-4de3-8d50-f735061d6db3",
   "metadata": {},
   "outputs": [],
   "source": [
    "new_data = pd.read_csv('train_drcat_04.csv')"
   ]
  },
  {
   "cell_type": "code",
   "execution_count": 82,
   "id": "ff712d76-4b74-419f-9c17-eb775020a935",
   "metadata": {},
   "outputs": [
    {
     "name": "stdout",
     "output_type": "stream",
     "text": [
      "<class 'pandas.core.frame.DataFrame'>\n",
      "RangeIndex: 44206 entries, 0 to 44205\n",
      "Data columns (total 6 columns):\n",
      " #   Column    Non-Null Count  Dtype \n",
      "---  ------    --------------  ----- \n",
      " 0   essay_id  44206 non-null  object\n",
      " 1   text      44206 non-null  object\n",
      " 2   label     44206 non-null  int64 \n",
      " 3   source    44206 non-null  object\n",
      " 4   prompt    12911 non-null  object\n",
      " 5   fold      44206 non-null  int64 \n",
      "dtypes: int64(2), object(4)\n",
      "memory usage: 2.0+ MB\n"
     ]
    }
   ],
   "source": [
    "new_data.info()"
   ]
  },
  {
   "cell_type": "code",
   "execution_count": 83,
   "id": "0a09e951-e553-45f5-b5e6-61e2feafda0c",
   "metadata": {},
   "outputs": [],
   "source": [
    "new_data.drop(['essay_id','source','prompt','fold'],axis=1,inplace=True)"
   ]
  },
  {
   "cell_type": "code",
   "execution_count": 84,
   "id": "fe618317-d377-4507-8f54-2ceed9933fa1",
   "metadata": {},
   "outputs": [
    {
     "data": {
      "text/html": [
       "<div>\n",
       "<style scoped>\n",
       "    .dataframe tbody tr th:only-of-type {\n",
       "        vertical-align: middle;\n",
       "    }\n",
       "\n",
       "    .dataframe tbody tr th {\n",
       "        vertical-align: top;\n",
       "    }\n",
       "\n",
       "    .dataframe thead th {\n",
       "        text-align: right;\n",
       "    }\n",
       "</style>\n",
       "<table border=\"1\" class=\"dataframe\">\n",
       "  <thead>\n",
       "    <tr style=\"text-align: right;\">\n",
       "      <th></th>\n",
       "      <th>text</th>\n",
       "      <th>label</th>\n",
       "    </tr>\n",
       "  </thead>\n",
       "  <tbody>\n",
       "    <tr>\n",
       "      <th>0</th>\n",
       "      <td>In recent years, technology has had a profoun...</td>\n",
       "      <td>1</td>\n",
       "    </tr>\n",
       "    <tr>\n",
       "      <th>1</th>\n",
       "      <td>Should students participate in an extracurricu...</td>\n",
       "      <td>0</td>\n",
       "    </tr>\n",
       "    <tr>\n",
       "      <th>2</th>\n",
       "      <td>The electoral college is a symbol of mockery a...</td>\n",
       "      <td>0</td>\n",
       "    </tr>\n",
       "    <tr>\n",
       "      <th>3</th>\n",
       "      <td>This is why I think the principle should allow...</td>\n",
       "      <td>0</td>\n",
       "    </tr>\n",
       "    <tr>\n",
       "      <th>4</th>\n",
       "      <td>I strongly believe that meditation and mindful...</td>\n",
       "      <td>1</td>\n",
       "    </tr>\n",
       "    <tr>\n",
       "      <th>...</th>\n",
       "      <td>...</td>\n",
       "      <td>...</td>\n",
       "    </tr>\n",
       "    <tr>\n",
       "      <th>44201</th>\n",
       "      <td>\"Oh man I didn't make the soccer team!\", yelle...</td>\n",
       "      <td>0</td>\n",
       "    </tr>\n",
       "    <tr>\n",
       "      <th>44202</th>\n",
       "      <td>I believe that using this technology could be ...</td>\n",
       "      <td>0</td>\n",
       "    </tr>\n",
       "    <tr>\n",
       "      <th>44203</th>\n",
       "      <td>The Face on Mars is a fascinating phenomenon t...</td>\n",
       "      <td>1</td>\n",
       "    </tr>\n",
       "    <tr>\n",
       "      <th>44204</th>\n",
       "      <td>Texting &amp; Driving\\n\\nUsing your phone while dr...</td>\n",
       "      <td>0</td>\n",
       "    </tr>\n",
       "    <tr>\n",
       "      <th>44205</th>\n",
       "      <td>Dear Principal,\\n\\nI have been really good thi...</td>\n",
       "      <td>0</td>\n",
       "    </tr>\n",
       "  </tbody>\n",
       "</table>\n",
       "<p>44206 rows × 2 columns</p>\n",
       "</div>"
      ],
      "text/plain": [
       "                                                    text  label\n",
       "0       In recent years, technology has had a profoun...      1\n",
       "1      Should students participate in an extracurricu...      0\n",
       "2      The electoral college is a symbol of mockery a...      0\n",
       "3      This is why I think the principle should allow...      0\n",
       "4      I strongly believe that meditation and mindful...      1\n",
       "...                                                  ...    ...\n",
       "44201  \"Oh man I didn't make the soccer team!\", yelle...      0\n",
       "44202  I believe that using this technology could be ...      0\n",
       "44203  The Face on Mars is a fascinating phenomenon t...      1\n",
       "44204  Texting & Driving\\n\\nUsing your phone while dr...      0\n",
       "44205  Dear Principal,\\n\\nI have been really good thi...      0\n",
       "\n",
       "[44206 rows x 2 columns]"
      ]
     },
     "execution_count": 84,
     "metadata": {},
     "output_type": "execute_result"
    }
   ],
   "source": [
    "new_data"
   ]
  },
  {
   "cell_type": "code",
   "execution_count": 85,
   "id": "122c8e9d-d0cd-4f0d-943e-d13ccb22fdde",
   "metadata": {},
   "outputs": [],
   "source": [
    "train_essays.rename(columns={'generated':'label'},inplace=True)"
   ]
  },
  {
   "cell_type": "code",
   "execution_count": 86,
   "id": "095b3a94-c874-4eb1-b532-960c91496f6d",
   "metadata": {},
   "outputs": [],
   "source": [
    "final_data = pd.concat([train_essays,new_data])"
   ]
  },
  {
   "cell_type": "code",
   "execution_count": 87,
   "id": "4b9a3a38-3f6f-4fd4-86ae-b8e61691bf74",
   "metadata": {},
   "outputs": [],
   "source": [
    "labels = final_data['label']\n",
    "text = final_data['text']"
   ]
  },
  {
   "cell_type": "code",
   "execution_count": 76,
   "id": "f27f8558-f3e4-4fbe-981c-27fb91ef22f9",
   "metadata": {},
   "outputs": [],
   "source": [
    "labels = labels.to_numpy().reshape((-1,1))"
   ]
  },
  {
   "cell_type": "code",
   "execution_count": 96,
   "id": "2552f6ac-d377-4872-80f8-a2b499f435d1",
   "metadata": {},
   "outputs": [],
   "source": [
    "df=pd.DataFrame(text)"
   ]
  },
  {
   "cell_type": "code",
   "execution_count": 110,
   "id": "bcd1df18-ce32-4cd1-b611-5184e533e734",
   "metadata": {},
   "outputs": [],
   "source": [
    "df = df.astype('string').to_numpy()"
   ]
  },
  {
   "cell_type": "code",
   "execution_count": 119,
   "id": "e36a0b36-9593-4717-a7a9-aa6bd8e896c2",
   "metadata": {},
   "outputs": [
    {
     "name": "stderr",
     "output_type": "stream",
     "text": [
      "2023-11-23 15:31:45.851432: I tensorflow/core/grappler/optimizers/custom_graph_optimizer_registry.cc:114] Plugin optimizer for device_type GPU is enabled.\n"
     ]
    }
   ],
   "source": [
    "vec_layer2 = TextVectorization(max_tokens=1000000,output_mode='int',output_sequence_length=250)\n",
    "vec_layer2.adapt(df)\n",
    "train = np.array(vec_layer2(df))"
   ]
  },
  {
   "cell_type": "code",
   "execution_count": 120,
   "id": "50ec23d9-9b1e-472b-867d-93a89bdce2d1",
   "metadata": {},
   "outputs": [],
   "source": [
    "x_train,x_test,y_train,y_test = train_test_split(train,labels)"
   ]
  },
  {
   "cell_type": "code",
   "execution_count": 125,
   "id": "6aadd4af-7332-431d-b088-a793a457d60d",
   "metadata": {},
   "outputs": [],
   "source": [
    "y_train = y_train.to_numpy().reshape((-1,1))\n",
    "y_test = y_test.to_numpy().reshape((-1,1))"
   ]
  },
  {
   "cell_type": "code",
   "execution_count": 173,
   "id": "b5f0b868-cd68-4a6f-ba25-d447b0feee98",
   "metadata": {},
   "outputs": [
    {
     "name": "stdout",
     "output_type": "stream",
     "text": [
      "Epoch 1/10\n"
     ]
    },
    {
     "name": "stderr",
     "output_type": "stream",
     "text": [
      "2023-11-23 17:38:22.893700: I tensorflow/core/grappler/optimizers/custom_graph_optimizer_registry.cc:114] Plugin optimizer for device_type GPU is enabled.\n",
      "2023-11-23 17:38:23.047699: I tensorflow/core/grappler/optimizers/custom_graph_optimizer_registry.cc:114] Plugin optimizer for device_type GPU is enabled.\n",
      "2023-11-23 17:38:23.426185: I tensorflow/core/grappler/optimizers/custom_graph_optimizer_registry.cc:114] Plugin optimizer for device_type GPU is enabled.\n"
     ]
    },
    {
     "name": "stdout",
     "output_type": "stream",
     "text": [
      "1069/1069 [==============================] - 45s 41ms/step - loss: 0.2578 - acc: 0.9080\n",
      "Epoch 2/10\n",
      "1069/1069 [==============================] - 38s 35ms/step - loss: 0.1367 - acc: 0.9587\n",
      "Epoch 3/10\n",
      "1069/1069 [==============================] - 37s 35ms/step - loss: 0.0822 - acc: 0.9790\n",
      "Epoch 4/10\n",
      "1069/1069 [==============================] - 36s 34ms/step - loss: 0.0462 - acc: 0.9901\n",
      "Epoch 5/10\n",
      "1069/1069 [==============================] - 36s 34ms/step - loss: 0.0580 - acc: 0.9870\n"
     ]
    }
   ],
   "source": [
    "model2 = Sequential()\n",
    "model2.add(Embedding(input_dim=48585,output_dim=32,input_length=250))\n",
    "model2.add(LSTM(32, return_sequences=False))\n",
    "model2.add(Dropout(0.5))\n",
    "model2.add(Dense(1,activation='sigmoid'))\n",
    "\n",
    "\n",
    "model2.compile(optimizer='adam',loss='binary_crossentropy',metrics=['acc'])\n",
    "\n",
    "history = model2.fit(x_train,y_train,epochs=10,callbacks=callbacks)"
   ]
  },
  {
   "cell_type": "code",
   "execution_count": 168,
   "id": "f23b0f58-a95d-4c90-9182-757819ea0650",
   "metadata": {},
   "outputs": [],
   "source": [
    "# from keras.models import Sequential\n",
    "# from keras.layers import Embedding, LSTM, Dropout, Flatten, Dense\n",
    "\n",
    "# model2 = Sequential()\n",
    "\n",
    "# # Add an Embedding layer with input_shape\n",
    "# model2.add(Embedding(input_dim=48585, output_dim=32, input_length=250))\n",
    "\n",
    "# # Add an LSTM layer with the correct input_shape and number of units\n",
    "# model2.add(LSTM(32, return_sequences=True))  # Adjust return_sequences based on your model architecture\n",
    "\n",
    "# # Add a Dropout layer with a specified dropout rate\n",
    "# model2.add(Dropout(0.5))  # Adjust the dropout rate as needed\n",
    "\n",
    "# # Add a Flatten layer\n",
    "# model2.add(Flatten())\n",
    "\n",
    "# # Add a Dense layer with sigmoid activation for binary classification\n",
    "# model2.add(Dense(1, activation='sigmoid'))\n",
    "\n",
    "# model2.compile(optimizer='adam', loss='binary_crossentropy', metrics=['acc'])\n",
    "\n",
    "# # Make sure x_train and y_train have the correct shapes\n",
    "# history = model2.fit(x_train, y_train, epochs=20, callbacks=callbacks)\n"
   ]
  },
  {
   "cell_type": "code",
   "execution_count": 175,
   "id": "767c7d3b-7687-410a-88a2-15901b8484fd",
   "metadata": {},
   "outputs": [
    {
     "name": "stderr",
     "output_type": "stream",
     "text": [
      "2023-11-23 17:42:04.003569: I tensorflow/core/grappler/optimizers/custom_graph_optimizer_registry.cc:114] Plugin optimizer for device_type GPU is enabled.\n",
      "2023-11-23 17:42:04.101534: I tensorflow/core/grappler/optimizers/custom_graph_optimizer_registry.cc:114] Plugin optimizer for device_type GPU is enabled.\n"
     ]
    },
    {
     "name": "stdout",
     "output_type": "stream",
     "text": [
      "357/357 [==============================] - 5s 11ms/step - loss: 0.0678 - acc: 0.9827\n"
     ]
    },
    {
     "data": {
      "text/plain": [
       "[0.06777850538492203, 0.9827132225036621]"
      ]
     },
     "execution_count": 175,
     "metadata": {},
     "output_type": "execute_result"
    }
   ],
   "source": [
    "model2.evaluate(x_test,y_test)"
   ]
  },
  {
   "cell_type": "code",
   "execution_count": 177,
   "id": "3dacb353-7137-4224-8b16-7c9581feaf97",
   "metadata": {},
   "outputs": [
    {
     "name": "stdout",
     "output_type": "stream",
     "text": [
      "357/357 [==============================] - 3s 10ms/step\n"
     ]
    }
   ],
   "source": [
    "pred=model2.predict(x_test)"
   ]
  },
  {
   "cell_type": "code",
   "execution_count": null,
   "id": "eb35dbb5-e247-4633-beb2-5b1df216e872",
   "metadata": {},
   "outputs": [],
   "source": []
  },
  {
   "cell_type": "code",
   "execution_count": null,
   "id": "76af4144-767a-4c44-acf0-96c27c786610",
   "metadata": {},
   "outputs": [],
   "source": []
  }
 ],
 "metadata": {
  "kernelspec": {
   "display_name": "Python 3 (ipykernel)",
   "language": "python",
   "name": "python3"
  },
  "language_info": {
   "codemirror_mode": {
    "name": "ipython",
    "version": 3
   },
   "file_extension": ".py",
   "mimetype": "text/x-python",
   "name": "python",
   "nbconvert_exporter": "python",
   "pygments_lexer": "ipython3",
   "version": "3.8.17"
  }
 },
 "nbformat": 4,
 "nbformat_minor": 5
}
